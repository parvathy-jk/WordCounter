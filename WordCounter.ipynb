{
 "cells": [
  {
   "cell_type": "code",
   "execution_count": null,
   "id": "c2d2dfc0-1a56-4451-879d-ac179f423bf2",
   "metadata": {},
   "outputs": [],
   "source": [
    "def count_words(text):\n",
    "    words = text.split()\n",
    "    return len(words)\n",
    "\n",
    "def count_characters(text):\n",
    "    return len(text)\n",
    "\n",
    "def count_sentences(text):\n",
    "    sentences = [s for s in text if s in '.!?']\n",
    "    return len(sentences)\n",
    "\n",
    "print(\"Enter your paragraph (press Enter twice to finish):\")\n",
    "\n",
    "lines = []\n",
    "while True:\n",
    "    line = input()\n",
    "    if line == \"\":\n",
    "        break\n",
    "    lines.append(line)\n",
    "\n",
    "paragraph = \" \".join(lines)\n",
    "\n",
    "print(\"\\nAnalysis:\")\n",
    "print(f\"Total characters: {count_characters(paragraph)}\")\n",
    "print(f\"Total words: {count_words(paragraph)}\")\n",
    "print(f\"Total sentences: {count_sentences(paragraph)}\")"
   ]
  }
 ],
 "metadata": {
  "kernelspec": {
   "display_name": "Python 3 (ipykernel)",
   "language": "python",
   "name": "python3"
  },
  "language_info": {
   "codemirror_mode": {
    "name": "ipython",
    "version": 3
   },
   "file_extension": ".py",
   "mimetype": "text/x-python",
   "name": "python",
   "nbconvert_exporter": "python",
   "pygments_lexer": "ipython3",
   "version": "3.12.5"
  }
 },
 "nbformat": 4,
 "nbformat_minor": 5
}
